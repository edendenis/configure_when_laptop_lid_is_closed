{
 "cells": [
  {
   "cell_type": "markdown",
   "metadata": {},
   "source": [
    "# Como instalar o `configure_when_laptop_lid_is_closed` no `Linux Ubuntu`\n",
    "\n",
    "## Resumo\n",
    "\n",
    "Neste documento estao descritos os passos basicos para instalar e habilitar o programa `configure_when_laptop_lid_is_closed` no `Linux Ubuntu`.\n",
    "\n",
    "## _Abstract_\n",
    "\n",
    "_This document describes the basic steps to install and enable the program `configure_when_laptop_lid_is_closed` on `Linux Ubuntu`._"
   ]
  },
  {
   "cell_type": "markdown",
   "metadata": {},
   "source": [
    "## Descricao\n",
    "\n",
    "`configure_when_laptop_lid_is_closed` e um pequeno script que altera o comportamento do Ubuntu quando a tampa do laptop eh fechada. Ele permite definir a acao desejada por meio de um servico do `systemd`."
   ]
  },
  {
   "cell_type": "markdown",
   "metadata": {},
   "source": [
    "## 1. Como instalar o `configure_when_laptop_lid_is_closed`\n",
    "\n",
    "Para instalar o `configure_when_laptop_lid_is_closed` no `Linux Ubuntu`, execute os passos abaixo:\n",
    "\n",
    "1. Abra o terminal com `Ctrl + Alt + T`.\n",
    "2. Clone o repositorio e acesse a pasta:\n",
    "\n",
    "```bash\n",
    "git clone https://github.com/edendenis/configure_when_laptop_lid_is_closed.git\n",
    "cd configure_when_laptop_lid_is_closed\n",
    "```\n",
    "3. Copie o script principal para `/usr/local/bin`:\n",
    "\n",
    "```bash\n",
    "sudo install -m 755 configure_when_laptop_lid_is_closed.sh /usr/local/bin/\n",
    "```\n",
    "4. Instale o servico e habilite-o:\n",
    "\n",
    "```bash\n",
    "sudo cp configure_when_laptop_lid_is_closed.service /etc/systemd/system/\n",
    "sudo systemctl daemon-reload\n",
    "sudo systemctl enable --now configure_when_laptop_lid_is_closed.service\n",
    "```\n"
   ]
  },
  {
   "cell_type": "markdown",
   "metadata": {},
   "source": [
    "### 1.1 Codigo completo para instalacao\n",
    "\n",
    "Execute o bloco abaixo para realizar toda a instalacao de uma so vez:\n",
    "\n",
    "```bash\n",
    "git clone https://github.com/edendenis/configure_when_laptop_lid_is_closed.git\n",
    "cd configure_when_laptop_lid_is_closed\n",
    "sudo install -m 755 configure_when_laptop_lid_is_closed.sh /usr/local/bin/\n",
    "sudo cp configure_when_laptop_lid_is_closed.service /etc/systemd/system/\n",
    "sudo systemctl daemon-reload\n",
    "sudo systemctl enable --now configure_when_laptop_lid_is_closed.service\n",
    "```\n"
   ]
  },
  {
   "cell_type": "markdown",
   "metadata": {},
   "source": [
    "## Referencias\n",
    "\n",
    "[1] OPENAI. ***Como instalar configure_when_laptop_lid_is_closed no Linux Ubuntu:*** https://chatgpt.com/c/688af8ea-d364-8321-a2d3-ab76e79015e1. ChatGPT. Acessado em: 31/07/2025.\n"
   ]
  }
 ],
 "metadata": {
  "kernelspec": {
   "display_name": "Python 3",
   "language": "python",
   "name": "python3"
  },
  "language_info": {
   "name": "python",
   "version": "3.11"
  }
 },
 "nbformat": 4,
 "nbformat_minor": 2
}